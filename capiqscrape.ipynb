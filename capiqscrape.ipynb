{
 "cells": [
  {
   "cell_type": "code",
   "execution_count": 3,
   "id": "bf06ab58",
   "metadata": {},
   "outputs": [],
   "source": [
    "import pandas as pd\n",
    "from lxml import html\n",
    "from lxml import etree\n",
    "import requests\n",
    "import json\n",
    "from bs4 import BeautifulSoup as bs\n",
    "from selenium import webdriver\n",
    "from selenium.webdriver.common.keys import Keys\n",
    "import chromedriver_binary\n",
    "import time\n",
    "import re\n",
    "import numpy as np\n",
    "from selenium.webdriver.support.ui import WebDriverWait\n",
    "from selenium.webdriver.support import expected_conditions as EC\n",
    "from selenium.webdriver.common.by import By\n",
    "from pprint import pprint\n",
    "import pickle\n",
    "import copy"
   ]
  },
  {
   "cell_type": "code",
   "execution_count": 47,
   "id": "b1094bb7",
   "metadata": {},
   "outputs": [],
   "source": [
    "url = 'https://www.capitaliq.com/ciqdotnet/login-sso.aspx'\n",
    "driver = webdriver.Chrome(executable_path=r'/Users/archiefox/Desktop/chromedriver')\n",
    "driver.get(url)\n"
   ]
  },
  {
   "cell_type": "code",
   "execution_count": 20,
   "id": "0fcb30b7",
   "metadata": {},
   "outputs": [],
   "source": [
    "\n",
    "# login\n",
    "\n",
    "# pickle.dump(driver.get_cookies(), open('mac_cookies.pkl', 'wb'))"
   ]
  },
  {
   "cell_type": "code",
   "execution_count": 48,
   "id": "79ecfde6",
   "metadata": {},
   "outputs": [],
   "source": [
    "cookies = pickle.load(open('mac_cookies.pkl', 'rb'))\n",
    "for cookie in cookies:\n",
    "    driver.add_cookie(cookie)"
   ]
  },
  {
   "cell_type": "code",
   "execution_count": 49,
   "id": "f64ea33d",
   "metadata": {},
   "outputs": [],
   "source": [
    "driver.get('https://www.capitaliq.com/CIQDotNet/my/dashboard.aspx')"
   ]
  },
  {
   "cell_type": "code",
   "execution_count": 50,
   "id": "3072650e",
   "metadata": {},
   "outputs": [],
   "source": [
    "search_bar = driver.find_element_by_name(\"SearchText\")"
   ]
  },
  {
   "cell_type": "code",
   "execution_count": 51,
   "id": "dbd9c3c6",
   "metadata": {},
   "outputs": [],
   "source": [
    "name = 'Hammertech Global'\n",
    "search_bar.send_keys(name)\n",
    "search_bar.send_keys(Keys.ENTER)"
   ]
  },
  {
   "cell_type": "code",
   "execution_count": 52,
   "id": "bcb62d09",
   "metadata": {},
   "outputs": [],
   "source": [
    "def scrape_iq_data(driver):\n",
    "    data = {}\n",
    "    revenue = driver.find_element_by_xpath('//td//*[contains(text(), \"Total Revenue\")]').find_element_by_xpath('..//following-sibling::td').text\n",
    "    revenue = float(revenue.replace(\",\", \"\"))*(10**6)\n",
    "    data['Revenue'] = revenue\n",
    "    \n",
    "    ebitda = driver.find_element_by_xpath('//td//*[contains(text(), \"EBITDA\")]').find_element_by_xpath('..//following-sibling::td').text\n",
    "    ebitda = float(ebitda.replace(\",\", \"\"))*(10**6)\n",
    "    data['EBITDA'] = ebitda\n",
    "    \n",
    "    d = pd.read_html(driver.page_source)\n",
    "    for df in d[::-1]:\n",
    "        if 'Key Professionals View All' in df.values:\n",
    "            execs = df.rename(columns=df.iloc[1]).drop(df.index[:2]).reset_index(drop=True).iloc[:, :2]\n",
    "            execs['Title'] = execs['Title'].str.upper().str.replace(',', ' ')\n",
    "            execs = execs.astype(str)\n",
    "            try:\n",
    "                ceo = execs[execs.Title.apply(lambda x: any(identifier in x for identifier in ['CEO', 'CHIEF EXECUTIVE OFFICER', \"CHIEF EXEC. OFFICER\"]))].Name.values[0]\n",
    "                data['CEO'] = ceo\n",
    "                print(ceo)\n",
    "            except:\n",
    "                print('ceo not found')\n",
    "            try:\n",
    "                cfo = execs[execs.Title.apply(lambda x: any(identifier in x for identifier in ['CFO', 'CHIEF FINANCIAL OFFICER']))].Name.values[0]\n",
    "                data['CFO'] = cfo\n",
    "                print(cfo)\n",
    "            except:\n",
    "                print('cfo not found')\n",
    "            try:\n",
    "                cto = execs[execs.Title.apply(lambda x: any(identifier in x.replace('DIRECTOR', '') for identifier in ['CTO', 'CHIEF TECHNOLOGY OFFICER']))].Name.values[0]\n",
    "                data['CTO'] = cto\n",
    "                print(cto)\n",
    "            except:\n",
    "                print('cto not found')\n",
    "            return data"
   ]
  },
  {
   "cell_type": "code",
   "execution_count": 53,
   "id": "72513a6a",
   "metadata": {},
   "outputs": [
    {
     "data": {
      "text/html": [
       "<div>\n",
       "<style scoped>\n",
       "    .dataframe tbody tr th:only-of-type {\n",
       "        vertical-align: middle;\n",
       "    }\n",
       "\n",
       "    .dataframe tbody tr th {\n",
       "        vertical-align: top;\n",
       "    }\n",
       "\n",
       "    .dataframe thead th {\n",
       "        text-align: right;\n",
       "    }\n",
       "</style>\n",
       "<table border=\"1\" class=\"dataframe\">\n",
       "  <thead>\n",
       "    <tr style=\"text-align: right;\">\n",
       "      <th></th>\n",
       "      <th>Name</th>\n",
       "      <th>Title</th>\n",
       "    </tr>\n",
       "  </thead>\n",
       "  <tbody>\n",
       "    <tr>\n",
       "      <th>0</th>\n",
       "      <td>Leach, Ben</td>\n",
       "      <td>Co-Founder &amp; CEO</td>\n",
       "    </tr>\n",
       "    <tr>\n",
       "      <th>1</th>\n",
       "      <td>Harris, James</td>\n",
       "      <td>Co-Founder &amp; CTO</td>\n",
       "    </tr>\n",
       "    <tr>\n",
       "      <th>2</th>\n",
       "      <td>Hogben, Andrew</td>\n",
       "      <td>Co-Founder &amp; VP of sales - North America</td>\n",
       "    </tr>\n",
       "    <tr>\n",
       "      <th>3</th>\n",
       "      <td>McDonald, Lucas</td>\n",
       "      <td>Co-Founder</td>\n",
       "    </tr>\n",
       "    <tr>\n",
       "      <th>4</th>\n",
       "      <td>Tabone, Brad</td>\n",
       "      <td>Co-Founder &amp; COO</td>\n",
       "    </tr>\n",
       "    <tr>\n",
       "      <th>5</th>\n",
       "      <td>Stassen, Wynand</td>\n",
       "      <td>CFO &amp; VP of Corporate Services</td>\n",
       "    </tr>\n",
       "    <tr>\n",
       "      <th>6</th>\n",
       "      <td>Lucett, Virginia Chere</td>\n",
       "      <td>Vice President of Global Marketing</td>\n",
       "    </tr>\n",
       "    <tr>\n",
       "      <th>7</th>\n",
       "      <td>Hobbs, Adam</td>\n",
       "      <td>Head of Sales (APAC)</td>\n",
       "    </tr>\n",
       "    <tr>\n",
       "      <th>8</th>\n",
       "      <td>Peters, Nicholas</td>\n",
       "      <td>Head of Marketing (APAC)</td>\n",
       "    </tr>\n",
       "    <tr>\n",
       "      <th>9</th>\n",
       "      <td>nan</td>\n",
       "      <td>nan</td>\n",
       "    </tr>\n",
       "  </tbody>\n",
       "</table>\n",
       "</div>"
      ],
      "text/plain": [
       "                     Name                                     Title\n",
       "0              Leach, Ben                          Co-Founder & CEO\n",
       "1           Harris, James                          Co-Founder & CTO\n",
       "2          Hogben, Andrew  Co-Founder & VP of sales - North America\n",
       "3         McDonald, Lucas                                Co-Founder\n",
       "4            Tabone, Brad                          Co-Founder & COO\n",
       "5         Stassen, Wynand            CFO & VP of Corporate Services\n",
       "6  Lucett, Virginia Chere        Vice President of Global Marketing\n",
       "7             Hobbs, Adam                      Head of Sales (APAC)\n",
       "8        Peters, Nicholas                  Head of Marketing (APAC)\n",
       "9                     nan                                       nan"
      ]
     },
     "metadata": {},
     "output_type": "display_data"
    }
   ],
   "source": [
    "d = pd.read_html(driver.page_source)\n",
    "for df in d[::-1]:\n",
    "    if 'Key Professionals View All' in df.values:\n",
    "        execs = df.rename(columns=df.iloc[1]).drop(df.index[:2]).reset_index(drop=True).iloc[:, :2]\n",
    "        execs = execs.astype(str)\n",
    "        display(execs)\n",
    "        break"
   ]
  },
  {
   "cell_type": "code",
   "execution_count": 45,
   "id": "ca0ed9af",
   "metadata": {},
   "outputs": [
    {
     "data": {
      "text/plain": [
       "0      True\n",
       "1     False\n",
       "2      True\n",
       "3     False\n",
       "4     False\n",
       "5     False\n",
       "6     False\n",
       "7     False\n",
       "8     False\n",
       "9     False\n",
       "10    False\n",
       "11    False\n",
       "12    False\n",
       "Name: Title, dtype: bool"
      ]
     },
     "execution_count": 45,
     "metadata": {},
     "output_type": "execute_result"
    }
   ],
   "source": [
    "execs.Title.apply(lambda x: any(identifier in x for identifier in ['CEO', 'CHIEF EXECUTIVE OFFICER', \"CHIEF EXEC. OFFICER\"]))"
   ]
  },
  {
   "cell_type": "code",
   "execution_count": 46,
   "id": "731de95f",
   "metadata": {},
   "outputs": [
    {
     "name": "stdout",
     "output_type": "stream",
     "text": [
      "Lombardo, Anthony Peter\n",
      "Dixon, Simon Collier\n",
      "cto not found\n"
     ]
    },
    {
     "data": {
      "text/plain": [
       "{'Revenue': 9892000000.0,\n",
       " 'EBITDA': 126000000.0,\n",
       " 'CEO': 'Lombardo, Anthony Peter',\n",
       " 'CFO': 'Dixon, Simon Collier'}"
      ]
     },
     "execution_count": 46,
     "metadata": {},
     "output_type": "execute_result"
    }
   ],
   "source": [
    "scrape_iq_data(driver)"
   ]
  },
  {
   "cell_type": "code",
   "execution_count": null,
   "id": "e8f2bd3b",
   "metadata": {},
   "outputs": [],
   "source": [
    "if 'Australia' in address:\n",
    "    if 'Fax' in phone_fax:\n",
    "        phone, fax = [re.sub(\"[^0-9]\", \"\", i) for i in phone_fax.split('Fax:')]\n",
    "    else:\n",
    "        phone = re.sub(\"[^0-9]\", \"\", phone_fax)"
   ]
  },
  {
   "cell_type": "code",
   "execution_count": 39,
   "id": "305de33a",
   "metadata": {},
   "outputs": [
    {
     "data": {
      "text/html": [
       "<div>\n",
       "<style scoped>\n",
       "    .dataframe tbody tr th:only-of-type {\n",
       "        vertical-align: middle;\n",
       "    }\n",
       "\n",
       "    .dataframe tbody tr th {\n",
       "        vertical-align: top;\n",
       "    }\n",
       "\n",
       "    .dataframe thead th {\n",
       "        text-align: right;\n",
       "    }\n",
       "</style>\n",
       "<table border=\"1\" class=\"dataframe\">\n",
       "  <thead>\n",
       "    <tr style=\"text-align: right;\">\n",
       "      <th></th>\n",
       "      <th>Name</th>\n",
       "      <th>Title</th>\n",
       "    </tr>\n",
       "  </thead>\n",
       "  <tbody>\n",
       "    <tr>\n",
       "      <th>0</th>\n",
       "      <td>Lombardo, Anthony Peter</td>\n",
       "      <td>Global CEO, MD &amp; Executive Director</td>\n",
       "    </tr>\n",
       "    <tr>\n",
       "      <th>1</th>\n",
       "      <td>Dixon, Simon Collier</td>\n",
       "      <td>Group Chief Financial Officer</td>\n",
       "    </tr>\n",
       "    <tr>\n",
       "      <th>2</th>\n",
       "      <td>Hickey, Denis Jon</td>\n",
       "      <td>Global COO &amp; CEO of Lendlease Americas</td>\n",
       "    </tr>\n",
       "    <tr>\n",
       "      <th>3</th>\n",
       "      <td>Rampa, Kylie K.</td>\n",
       "      <td>Group Head of Investments</td>\n",
       "    </tr>\n",
       "    <tr>\n",
       "      <th>4</th>\n",
       "      <td>McCarthy, Justin</td>\n",
       "      <td>Head of Investor Relations</td>\n",
       "    </tr>\n",
       "    <tr>\n",
       "      <th>5</th>\n",
       "      <td>Pedersen, Karen</td>\n",
       "      <td>Group General Counsel</td>\n",
       "    </tr>\n",
       "    <tr>\n",
       "      <th>6</th>\n",
       "      <td>Fadahunsi, Ola</td>\n",
       "      <td>Director of Corporate Communications</td>\n",
       "    </tr>\n",
       "    <tr>\n",
       "      <th>7</th>\n",
       "      <td>Hutton, David Stewart</td>\n",
       "      <td>Group Head of Development</td>\n",
       "    </tr>\n",
       "    <tr>\n",
       "      <th>8</th>\n",
       "      <td>Megale, Luisa</td>\n",
       "      <td>Group Head of Corporate Affairs &amp; Marketing</td>\n",
       "    </tr>\n",
       "    <tr>\n",
       "      <th>9</th>\n",
       "      <td>Yates, Deborah</td>\n",
       "      <td>Chief People Officer</td>\n",
       "    </tr>\n",
       "    <tr>\n",
       "      <th>10</th>\n",
       "      <td>Arfsten, Jeff</td>\n",
       "      <td>Chief Operating Officer of Construction</td>\n",
       "    </tr>\n",
       "    <tr>\n",
       "      <th>11</th>\n",
       "      <td>Connor, Dale</td>\n",
       "      <td>Chief Executive Officer of Australia</td>\n",
       "    </tr>\n",
       "    <tr>\n",
       "      <th>12</th>\n",
       "      <td>nan</td>\n",
       "      <td>nan</td>\n",
       "    </tr>\n",
       "  </tbody>\n",
       "</table>\n",
       "</div>"
      ],
      "text/plain": [
       "                       Name                                        Title\n",
       "0   Lombardo, Anthony Peter          Global CEO, MD & Executive Director\n",
       "1      Dixon, Simon Collier                Group Chief Financial Officer\n",
       "2         Hickey, Denis Jon       Global COO & CEO of Lendlease Americas\n",
       "3           Rampa, Kylie K.                    Group Head of Investments\n",
       "4          McCarthy, Justin                   Head of Investor Relations\n",
       "5           Pedersen, Karen                        Group General Counsel\n",
       "6            Fadahunsi, Ola         Director of Corporate Communications\n",
       "7     Hutton, David Stewart                    Group Head of Development\n",
       "8             Megale, Luisa  Group Head of Corporate Affairs & Marketing\n",
       "9            Yates, Deborah                         Chief People Officer\n",
       "10            Arfsten, Jeff      Chief Operating Officer of Construction\n",
       "11             Connor, Dale         Chief Executive Officer of Australia\n",
       "12                      nan                                          nan"
      ]
     },
     "execution_count": 39,
     "metadata": {},
     "output_type": "execute_result"
    }
   ],
   "source": [
    "execs = execs.as"
   ]
  },
  {
   "cell_type": "code",
   "execution_count": 42,
   "id": "bdf7b9ac",
   "metadata": {},
   "outputs": [
    {
     "data": {
      "text/plain": [
       "'Lombardo, Anthony Peter'"
      ]
     },
     "execution_count": 42,
     "metadata": {},
     "output_type": "execute_result"
    }
   ],
   "source": [
    "ceo = execs[execs.Title.apply(lambda x: any(identifier in x for identifier in ['CEO', 'CHIEF EXECUTIVE OFFICER', \"CHIEF EXEC. OFFICER\"]))].Name.values[0]\n",
    "ceo"
   ]
  },
  {
   "cell_type": "code",
   "execution_count": null,
   "id": "ddefdf90",
   "metadata": {},
   "outputs": [],
   "source": []
  }
 ],
 "metadata": {
  "kernelspec": {
   "display_name": "Python 3",
   "language": "python",
   "name": "python3"
  },
  "language_info": {
   "codemirror_mode": {
    "name": "ipython",
    "version": 3
   },
   "file_extension": ".py",
   "mimetype": "text/x-python",
   "name": "python",
   "nbconvert_exporter": "python",
   "pygments_lexer": "ipython3",
   "version": "3.8.8"
  }
 },
 "nbformat": 4,
 "nbformat_minor": 5
}
