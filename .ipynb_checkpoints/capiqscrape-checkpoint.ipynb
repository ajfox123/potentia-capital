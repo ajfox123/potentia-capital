{
 "cells": [
  {
   "cell_type": "code",
   "execution_count": 1,
   "id": "bf06ab58",
   "metadata": {},
   "outputs": [],
   "source": [
    "import pandas as pd\n",
    "from lxml import html\n",
    "from lxml import etree\n",
    "import requests\n",
    "import json\n",
    "from bs4 import BeautifulSoup as bs\n",
    "from selenium import webdriver\n",
    "from selenium.webdriver.common.keys import Keys\n",
    "import chromedriver_binary\n",
    "import time\n",
    "import re\n",
    "import numpy as np\n",
    "from selenium.webdriver.support.ui import WebDriverWait\n",
    "from selenium.webdriver.support import expected_conditions as EC\n",
    "from selenium.webdriver.common.by import By\n",
    "from pprint import pprint\n",
    "import pickle"
   ]
  },
  {
   "cell_type": "code",
   "execution_count": 20,
   "id": "29c2cf93",
   "metadata": {},
   "outputs": [],
   "source": [
    "username = 'afox8221@uni.sydney.edu.au',\n",
    "password = 'Loopytro0C!'"
   ]
  },
  {
   "cell_type": "code",
   "execution_count": 21,
   "id": "3ed6299d",
   "metadata": {},
   "outputs": [],
   "source": [
    "cookies = {\n",
    "    'OAM_JSESSIONID': 'cPukAh-JXdxLd_1cCMkaR_XaZKuWTbHq3fYVvYK9T5T92MysD5_g!-583490808',\n",
    "    'JSESSIONID': '6LekAh-JTP8YMGlzYTAubzgC4W0mNTpj1ESiq_lDYMuL8GQs-vqf!-583490808',\n",
    "    'OAM_REQ_0': 'VERSION_4~Pcjycl8n5ITvPjgk3iSFxWOThTVEWV5AxkgacEZRuBvqGYxYn%2fKiQ6cLVb5HfdP1LtGhPdps02tEaEXN0%2b1hdIYf8wtSLFxWhiq4%2bMKE1Sa7IMOdmGlOKtzM%2fvP8y6FZ530U5hNp3XPeyQOaAvD2CPoBD5SwsuumH9o26x8viUIcJYNChOa2oCats3koPsobxHXdka9ykhk8DccCJErNgwM3FPpirVh0IlZAtvwImJ4E0vbCUUp13aDS3orQ42lHltXJ3Zf8u7IpYECKqTuwt%2bZirBWEj4RDhMUA64d0ZGDzIITqJNPR6ePofxOlvoztkJJOCUcd3%2bQYqDMxjvRTOGJlBDK8YERo64vY3R8uc5T%2b3eUUQQ4OgsHHmHgoiOWCr4G223N9sR%2b9WDuXtKY6qMXXTIuGtF4YKk8TtOV3gRGTL3rTjRrs0t1pRVUcpOebfXOe4mpKQ9WTkAXHcSAK%2fZ%2fxy7e%2b25EHcRJIADj6u0FuC%2fgrKwtBlJobtly7OV1i1sNSCTcJvmLovBtgSehktEPpIFI736GqQmZx55JkV%2fwgZIqqprjnOp6vBl2map1QuGN9JsiXUByv1k1Antq%2bzGiYZQ%2bLa9dyw1e3LZ4C8lLL0ZoUH8xeAhHcHMp1fVxdGmM%2fUUys03g7st%2bOL9cBoglT7IDiXkJyClLmRzqPDaNukioECE8GPT4CUueRlzNawLo3%2fd0eYr3U825WwdTVb%2fbQZUFod7t4YRDj8givWJLgoDoZlAGUfB1Ilnpnb4ivdYf6jJKRva9DYIvukz5N7Y1sG4dnBZMn440j88O40FmerEks00tR3ypdYO17glcbcaSuwiutlkplxdZhtvzjl9HCgHytT5px113UOBgfdSS09NmgVHEDt05s41%2fNXoBHuDlaFvxLTHy%2f6mza6Gx%2boNaEbylN4OW%2fSxsdPtKkKuyDaOXgREAMNxYHFryCU2JCGxohfTiME%2bvlJaGNXewp4DS30CmXGN0EYhGzVIHqHZOC2XOn1YGuNT4tO824CH8Hf7FhIUqZYSPEEZU9QK%2bpklMzR1VpWMusJR2QPoYpYs0w8Nuy4Iqqvq5x3gHumYpc3dLjMdeHSDf8%2fna2zgN9jc3fwNk7OZjXIrrbuNWKQWybqvJbqrYk349fGRHBBSvJyVXKwM6SiqhUL0emc%2bdsDuv4JXDDcyT2phR6IwZuoDGry21Ce7bdk%2fzLh%2fCuRVV2kAfE7BkuHL3TqRpBgw2ZniKngmC7CH1sBGzwLMnt6FpFKO0HpCm9Aj2wG440SRlcK%2bXJuEZKkx8DqILPx6ir1LSwyFJktEi4I6C1C152tj6vnU%2bIZbqiGrRRc9VI9u5HVEACFMR6eJcZM16v3sBNwaVmANst08G%2bD8TPEM0C%2bOtJAHUcWrTjcs8fjG4wmRDZOWySa4ICM7BHv%2b4UwUEpS9yylc7ccmZc4MxGmDIJBlBTy%2bMkXT%2f3M0qTLoMUXVzkuljYlP%2fTswgrTFSATqKL7obJZ%2bs7TFy4LMe6%2fuio2Og6ThvBMFA305kJG4M7A4BiQDlrWeOZAqM14b4%2bUGJ1n3WDH0A9FR27CZPwiOixiKsPmj1sSvQnIgOlwEAm%2fDEQTTlj46n2toMJXRR2XKIapWXSm4TZEbszPhHBLs6GMGAbMQcu0XanzzpMujDlcJykiPzOtAAcIbH4v6A8wkXfXX28I%2bFSEnKMGkZIiGqEuTPGVSd1G%2bH%2bR0koKMWTpUQmF%2fYcsxbncVt%2bmR097oT%2bo7o5lGr2fIyIZxd1l5%2boQEsdJ3SMS0NbzzEG%2b5WwvS%2bCptlAaLrivaz7FUQQkflPMjXAszV7zPwcE3Mmk%2f7OA2RqPbHzrMUhYEsGiSgDfsZ%2bCBNltxSQQyaQbI2cn%2f1SVswvQPyRGwwcx5HZzT2rWdiG59h9DpMoZjCw0BON4mF4smdS%2fWPqOE1zSM960Q808Xi9wcQbVfSM3UrmoICT6501WAzOptEuZxnC%2fyq6HEOTTOEIrziBUCqgTpTGt9YajlHPRTi713ZireWex4I6J7tSP3V5iXK32j465hACNmXTQh8YB3Mvzcmb86f%2fey%2fJzO%2fFuMgkHfhsJd26XIYFIWHDakM2IqMlmjHU47Co5NBYwVSD4EtW3%2biRJInKptK9d1VynUnvMmAIYiBdUp4krT5%2buC609CfKHkGFAEgnFHVvIuiF2uwo9zlzUZWoze2dxzCPMuvMB94ThftpI%2bFtAjJ7QjHJ9p9NTZCjd9N8OLW3QRJEL2e1FGi%2fI4eIkwaSo6M1TNRavZ3UMj%2bSBigFlOqQSMcDGo6FWnhE9WK7WvLpaVIuAXRVk%2f%2b94T0b40MPTxiqD3hqII%2fvGx9jiE967cSHbRsLNPkSO8BSA%2fNh255IxT6JV9kIkXSJ%2b6AG4gsP4w%2frI93SmLZl2beZFmraoCaM%2f0rsoIHTxZqVN6Uttn%2fvWMPoKznHq3UgN2t4Qfq6IjeWG3SEcZ%2barL0iCuoSmmJ6nsfo7uqKE0EHdp5S8UQkgScvzD%2fYEhs3OExpCQx6XPW9FHYTJFeJkcWEV1wHpWqd%2bkU29DMQklyE31dmdLbvp30ZVOMcRjrouyA%2bWZ6zzKRhTSzTPMuNMqaWmvI7GgdhrYI3WaL1J1hgtidLq4DfBCMl%2fJN%2bcB6J227MfUNHLo%2fQtVnVK91lPxRdirWqvNPDmO0NS1VVRiFOixCWc%2f8a5zcgBrUItrTqD7Nl2YIZYW9grnU2tWEbbk7GWd9Zz%2baY%2bu6gy9FUZaQ1cPtV%2fQWo4U4uRbeU2x7%2fqfhlZe4Nc3CIlfCh2v5eXCCmdPM9Nd%2fJ1K8yp6G9tZlZ%2b7YpNZfJgqnoVR%2fXYTjqZB5JBZITeyQUGdm6HYpErx%2fT7mQ%2bM8ICnh2Zucp90LWsut4MnXdoSGuIKRDBDqDtxm%2f%2bslMdxnA%2bVUe2UWQrdJmrL9cXuBvJ5xcalqQkRqih7So29uOYbiMQVV0kScWqJ4NCfKSYaWDHGtgEsQeZQtV9g9B880JcLuEq8jOcKt3K9J4Fkae%2b9k85TaxA%2bFvOdCQ0LxtrCROF2kSp1%2f94u2ZdpBqZLXPrgzdNL29N2VFrvAkNTQLWglVHN1sTUo652sLfetf3R4lRCSBxZmC0ddduj7rMtUaB1oKx45F1UCczYKQ0t8d5VQRiN9VRXTL3wVLQ7DMIbNz9LHVB6Z4oAbp%2be8vUKhFA2RFaQAjYnaT4CvVu2UuLha%2fxoXPxXD4lKFprQprj5SND1S6htgdfQi%2bJBDFdrBPWh%2bI7AnvgsHAKWUrA3hrA9es3NDILif%2bIrOuFGeStF9LbP96BMzDfPETE8hQRELqhfwHr03dae8THvczZITBC5sEVisVVm9qVi4A5imncKfv5iB8YB6LmcuhypHRNjPO2HE1TzjANWBL%2fAJgaLCKR1gs4feMz%2fNcgTFh%2fIBoqVU%2bPCHXXKavxak%2bOEWHbrsyBaJ4A0BHiPlwDy%2bj3krZJIoUqvyJAXGUz8xD7BFalOjjfsTRQcEBeeIXybvLRJB%2fAwd55F8O5iVzJT4OKpGs4UckIA%2bbGrgdB7q1SFjT24YK9cS8ogZ83qk2TDFvcg91i3AkLYna3psXT%2bnFdapZi',\n",
    "    'OAM_REQ_1': 'VERSION_4~Q6iBzeJubhiEWTOmwjkiYws5kuu2GTPyJJgerMVB9HEpy%2f3GYLVU996099eCRmiFmYRIL4B7zIuuPjDdQXOGKn6c5thG9vQ6EUWV1R9ETpayi2hatRawXlaelriIA4hzzJN7Wf7IKgA%2fwO1HQKcgOkraSk4Tte%2fbHBsptAsqU4tLwRHJgkebZmUqVkdgrb1zzg8ewuFNgDz5qPnapXrE2%2byub%2b9EGNpPjaJA5RII17dD8QtRY6t5YoeSKnF473MO%2bDcJALxoQVK8hwjblPzrdIYwI83B71dYCCGF6fAXPNTVG6WT%2bbCNmgYQPnnv1WoNDQowmC%2fGIJDRBNhttqYWKK2x%2f7c6J9NioeZ2H15msLJRtq9PqmTQMZzvuga%2fLakfHmTk%2bU5MY0%2fhhzqFYY8wY%2fXXgA%2b%2b0uYIBe8n%2fOGhB82akKXfdY36vKCbhzqI2nNwPGFZUknjDmDCqMQxphQKOKMGIEezZoIakUKAWr0Vj%2ffe0BDuAAq5m9xuNFDKMuX7RUp9sEttXKR%2brWm9c%2fTbDS6I4C6px4zYI79T3ywzjTw9W6EPrR9W2fUcyvPX%2fnybKfwIkkVUStwrxh4v6J9O4u3aTT0vEGPeiDvL5xAMyUc3qloFnbxME05QfOY6yRngkMFoz%2byqWe9QRhntZRXE6oSI5VJtI9gQm7GZaPqpLgtvrnop9OIaigtbwOCu6d6EKUcqgbfIxYqB2IJpPd5s1uG9doGFeIo9FsGRzNFsgGW2DDUCSXcCkW3bsoFx%2fxRHw5GZV90IGNcPEcJfkms7%2fgJtafIPRQT9U61bomxj9HIF0Ixe5ZRO9ZPaac2FLlHGRG%2bb5N5gg4quEjVRqLR2tXsS8v1nMYjqPy3z5EYYMUjpVl1Fwib14DgnnncnaO%2f6z3fw9EN6fuM1JafW7TiFmfp1NrqLWXOtbrLVwvgbKF97a%2btvOFM4M0w4DzgdjjPq3neJV1uv03abVAQ8jTIo%2fJ%2frHw0D5LMXEKiFveHZLUiZTFEbz%2bZJs%2fyfHak2RjW%2b4TSwk%2b5%2f8UCnrLNYYdUglqsbh2p2%2boNHUNE87dQ7HpnyVcUsGxYpqCC%2fwKCQYWOPMfKsXu1tVJKzvPWBafoHfhxOoJzoFe9wlg412phnOhfIdLlnYUaFB2ig4WBHIKvH1TWYlpL4TYOved0H0jQLwFmO95nQRsDJ5YVd%2fBjuRGvZMx2%2fkh%2fKQ05jtCkroaVmlZnq4fl5EsAqSgVVfrEATd4ybSdZyF0XimYXl3hVRYn8zZzt88lM5zFg%2b5XUEHr9iqQNlK7ym%2f4d%2fYeYcFmbQ2%2bEbjI1ZgUtBLHec97C%2fvau3uaT8nWRC%2b1rHlrTh%2b%2bMw%2f1kRO5ztLrsEViJ04cvK8rFWhYV7fEdm9uRYIczFruHmigxkv%2fFvc%2bS4L4%2bTSl1ZRKRN%2b63h204xRMVdQOPvKZ%2fiSjEsW7SDorn%2bfcifaw72Xr1m52Py8F30bV6ot2ba1%2bcEpZ5%2fD5wF2Sh3QcwtRGZWwL7htyu6sLjsJM8LOKRDvMcHHydVqbSJzyFooiSFJHRR81N8iNKgVOC0CP%2b5%2bq5MuU0tzBY%2bNabcq2pVy3btwGuIXU7ao9loe40OR2%2bLAnsU%2bql7kHqSqweelnnp0GdgiwzfRfFZYajYIao1YHG5n%2fH%2fHmHAA3Jv1547JjlCnhRrEC9THQlCups%2bwqkZvlnFu4%2bR01tA50wAvqTGWRrzWOInjoWAB94%2bgc0IQxhiKmm023E6TYLSCwS3CdmQ86aSsDKdzPt5DMzkpHqp9plGXGa5%2fF8uo40uf94MHwwNeQcnJ2MP9P5OplYs6CIFnlp9WhuZCOOHiEzpEYmUXvj%2fpNEqBAkPZ5z31mxWKekJkPsPWTwKEqWp51arUjrXNy9IxpUxqDR416%2b4doca6ti%2f9D4JoIMz5wury2xz6bouuisKr1bvhAAjIn566jrRTKptLqO1Bh9MboCfIpm7qyRjA%2bWZ4BInap63lNE%2biEvgk%2b73iXI3ddW57n9nFF7Wchlweu7GJvS%2fUx0TPOnLuJ4WfDwcjemE8FH%2fmi%2fCeOKVuZnncPTv8XBb4rLCfdwHDZgO5PCCmdKIr0alWvD5qx3k0MrIOjnLj6xVQe86WO6JDQa8ZKgxJcsiXjjnaQGx1V56C8ePhEYRcKd%2fHEX64Pqb0pT73pYrHCQgN1jEPhatlOUXRKNi8Twj6E09xVCew%3d%3d',\n",
    "    'OAM_REQ_COUNT': 'VERSION_4~2',\n",
    "}\n",
    "\n",
    "headers = {\n",
    "    'Connection': 'keep-alive',\n",
    "    'Cache-Control': 'max-age=0',\n",
    "    'sec-ch-ua': '\" Not A;Brand\";v=\"99\", \"Chromium\";v=\"96\", \"Google Chrome\";v=\"96\"',\n",
    "    'sec-ch-ua-mobile': '?0',\n",
    "    'sec-ch-ua-platform': '\"Windows\"',\n",
    "    'Upgrade-Insecure-Requests': '1',\n",
    "    'Origin': 'https://www.capitaliq.com',\n",
    "    'Content-Type': 'application/x-www-form-urlencoded',\n",
    "    'User-Agent': 'Mozilla/5.0 (Windows NT 10.0; Win64; x64) AppleWebKit/537.36 (KHTML, like Gecko) Chrome/96.0.4664.93 Safari/537.36',\n",
    "    'Accept': 'text/html,application/xhtml+xml,application/xml;q=0.9,image/avif,image/webp,image/apng,*/*;q=0.8,application/signed-exchange;v=b3;q=0.9',\n",
    "    'Sec-Fetch-Site': 'cross-site',\n",
    "    'Sec-Fetch-Mode': 'navigate',\n",
    "    'Sec-Fetch-User': '?1',\n",
    "    'Sec-Fetch-Dest': 'document',\n",
    "    'Referer': 'https://www.capitaliq.com/',\n",
    "    'Accept-Language': 'en-GB,en-US;q=0.9,en;q=0.8',\n",
    "}\n",
    "\n",
    "data = {\n",
    "  '__EVENTTARGET': '',\n",
    "  '__EVENTARGUMENT': '',\n",
    "  '__VIEWSTATE': '/wEPDwULLTExMDkwNTgzMjBkGAEFHl9fQ29udHJvbHNSZXF1aXJlUG9zdEJhY2tLZXlfXxYCBRJjaGtQZXJzaXN0ZW50TG9naW4FDW15TG9naW5CdXR0b24Egb9QmppD10vxNgg12vl1ZcahmFcTW5Ylz+8/z0INbQ==',\n",
    "  '__VIEWSTATEGENERATOR': '806EEE24',\n",
    "  '__EVENTVALIDATION': '/wEdAAephe/HVWWWNDcqRvVqq6GO708H97U8FzMiOktCXyLfGyoaAslXSbSyIrOQIGGf0WHuLHIiTtx6HOvMUxbWRkBIDZ69wkiyyJ/oxQOqev9pSfS+y5LWoFnyLY3pjnkzw/PMp84B9comCgoGA6Syf9CBrzgtO0laCEz9lRJyHJUgaNZjkPhZf2qyzct3nuwJTn0=',\n",
    "  'captchaValidated': '0',\n",
    "  'username': username,\n",
    "  'password': password,\n",
    "  'PersistentLogin': 'false'\n",
    "}\n",
    "\n",
    "response = requests.post('https://login.spglobal.com/oam/server/auth_cred_submit', headers=headers, cookies=cookies, data=data)"
   ]
  },
  {
   "cell_type": "code",
   "execution_count": 2,
   "id": "b1094bb7",
   "metadata": {},
   "outputs": [],
   "source": [
    "url = 'https://www.capitaliq.com/ciqdotnet/login-sso.aspx'\n",
    "driver = webdriver.Chrome()\n",
    "driver.get(url)\n",
    "\n",
    "# login\n",
    "\n",
    "#pickle.dump(driver.get_cookies(), open('cookies.pkl', 'wb'))"
   ]
  },
  {
   "cell_type": "code",
   "execution_count": 3,
   "id": "3afc3b84",
   "metadata": {},
   "outputs": [],
   "source": [
    "driver.get(url)"
   ]
  },
  {
   "cell_type": "code",
   "execution_count": 4,
   "id": "79ecfde6",
   "metadata": {},
   "outputs": [],
   "source": [
    "cookies = pickle.load(open('cookies.pkl', 'rb'))\n",
    "for cookie in cookies:\n",
    "    driver.add_cookie(cookie)"
   ]
  },
  {
   "cell_type": "code",
   "execution_count": 5,
   "id": "f64ea33d",
   "metadata": {},
   "outputs": [],
   "source": [
    "driver.get('https://www.capitaliq.com/CIQDotNet/my/dashboard.aspx')"
   ]
  },
  {
   "cell_type": "code",
   "execution_count": 148,
   "id": "3072650e",
   "metadata": {},
   "outputs": [],
   "source": [
    "search_bar = driver.find_element_by_name(\"SearchText\")"
   ]
  },
  {
   "cell_type": "code",
   "execution_count": 149,
   "id": "dbd9c3c6",
   "metadata": {},
   "outputs": [],
   "source": [
    "name = 'Hammertech Global'\n",
    "search_bar.send_keys(name)"
   ]
  },
  {
   "cell_type": "code",
   "execution_count": 150,
   "id": "a8d47da1",
   "metadata": {},
   "outputs": [],
   "source": [
    "search_bar.send_keys(Keys.ENTER)"
   ]
  },
  {
   "cell_type": "code",
   "execution_count": 151,
   "id": "bcb62d09",
   "metadata": {},
   "outputs": [],
   "source": [
    "if 'company' in driver.current_url:\n",
    "    # On company page\n",
    "    print('found company')\n",
    "\n",
    "elif 'Please see some suggested matches:' in driver.page_source:\n",
    "    # Pick from suggestion\n",
    "    company_suggestions = driver.find_elements_by_xpath('//table//*[contains(text(), \"Company)\")]')\n",
    "    print('going through suggestions')\n",
    "else:\n",
    "    print('idk')"
   ]
  },
  {
   "cell_type": "code",
   "execution_count": 135,
   "id": "86b14e09",
   "metadata": {},
   "outputs": [],
   "source": [
    "company_suggestions = driver.find_elements_by_xpath('//table//*[contains(text(), \"Company)\")]')"
   ]
  },
  {
   "cell_type": "code",
   "execution_count": 137,
   "id": "dfd93185",
   "metadata": {},
   "outputs": [
    {
     "name": "stdout",
     "output_type": "stream",
     "text": [
      "HammerTech Inc. (Private Company)\n",
      "Enertech Global, LLC (Private Company)\n",
      "Enertech Global (Private Company)\n",
      "Artech Global Ltd. (Private Company)\n",
      "HammerTech AS (Private Company)\n",
      "Hitech Global (Private Company)\n",
      "Tech Global Limited (Private Company)\n"
     ]
    }
   ],
   "source": []
  },
  {
   "cell_type": "code",
   "execution_count": 56,
   "id": "2edf625d",
   "metadata": {},
   "outputs": [],
   "source": []
  },
  {
   "cell_type": "code",
   "execution_count": 57,
   "id": "3faa00be",
   "metadata": {},
   "outputs": [
    {
     "data": {
      "text/plain": [
       "[<selenium.webdriver.remote.webelement.WebElement (session=\"e465165a6fdbb5a9c9d9171230975eaa\", element=\"b9aedcf5-b604-4e59-b742-25a6ef378c4d\")>,\n",
       " <selenium.webdriver.remote.webelement.WebElement (session=\"e465165a6fdbb5a9c9d9171230975eaa\", element=\"4e13dfad-06de-46f9-9544-ccf2e2ccd35e\")>,\n",
       " <selenium.webdriver.remote.webelement.WebElement (session=\"e465165a6fdbb5a9c9d9171230975eaa\", element=\"da0d9c9c-1ea5-445e-9d0c-a51672a9b6ba\")>,\n",
       " <selenium.webdriver.remote.webelement.WebElement (session=\"e465165a6fdbb5a9c9d9171230975eaa\", element=\"f5d254c1-9c57-4a25-b4ce-0a493cf8de16\")>,\n",
       " <selenium.webdriver.remote.webelement.WebElement (session=\"e465165a6fdbb5a9c9d9171230975eaa\", element=\"6cdd14f3-a7ab-4d0c-94aa-ef77081e0cda\")>,\n",
       " <selenium.webdriver.remote.webelement.WebElement (session=\"e465165a6fdbb5a9c9d9171230975eaa\", element=\"0b1b20e1-72d2-48c3-a507-93391da83304\")>,\n",
       " <selenium.webdriver.remote.webelement.WebElement (session=\"e465165a6fdbb5a9c9d9171230975eaa\", element=\"a01d7370-02c5-4bac-aede-a18b56598ff8\")>]"
      ]
     },
     "execution_count": 57,
     "metadata": {},
     "output_type": "execute_result"
    }
   ],
   "source": [
    "tables"
   ]
  },
  {
   "cell_type": "code",
   "execution_count": 142,
   "id": "e5007784",
   "metadata": {},
   "outputs": [
    {
     "name": "stdout",
     "output_type": "stream",
     "text": [
      "['2-43-15 Tomigaya Shibuya-ku', 'Tokyo', 'Japan']\n"
     ]
    }
   ],
   "source": [
    "try:\n",
    "    for href in tables:\n",
    "        href.click()\n",
    "        offices = driver.find_element_by_xpath('//a[contains(text(), \"View All Office Addresses\")]')\n",
    "        info = offices.find_element_by_xpath('./../../../../following-sibling::*').text.split('\\n')\n",
    "        if len(info) == 1:\n",
    "            primary_office = info[0]\n",
    "        else:\n",
    "            primary_office, phone_fax = info\n",
    "        address = primary_office.split('|')\n",
    "        address = [i.strip() for i in address]\n",
    "        \n",
    "        if 'Australia' in address:\n",
    "            break\n",
    "        else:\n",
    "            \n",
    "    print(address)\n",
    "except:\n",
    "    print('a')"
   ]
  },
  {
   "cell_type": "code",
   "execution_count": null,
   "id": "fea813ce",
   "metadata": {},
   "outputs": [],
   "source": [
    "if 'Australia' in address:\n",
    "    if 'Fax' in phone_fax:\n",
    "        phone, fax = [re.sub(\"[^0-9]\", \"\", i) for i in phone_fax.split('Fax:')]\n",
    "    else:\n",
    "        phone = re.sub(\"[^0-9]\", \"\", phone_fax)"
   ]
  }
 ],
 "metadata": {
  "kernelspec": {
   "display_name": "Python 3 (ipykernel)",
   "language": "python",
   "name": "python3"
  },
  "language_info": {
   "codemirror_mode": {
    "name": "ipython",
    "version": 3
   },
   "file_extension": ".py",
   "mimetype": "text/x-python",
   "name": "python",
   "nbconvert_exporter": "python",
   "pygments_lexer": "ipython3",
   "version": "3.8.11"
  }
 },
 "nbformat": 4,
 "nbformat_minor": 5
}
